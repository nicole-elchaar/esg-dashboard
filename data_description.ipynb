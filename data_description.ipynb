{
 "cells": [
  {
   "attachments": {},
   "cell_type": "markdown",
   "metadata": {},
   "source": [
    "# Data Description"
   ]
  },
  {
   "attachments": {},
   "cell_type": "markdown",
   "metadata": {},
   "source": [
    "## Setup"
   ]
  },
  {
   "cell_type": "code",
   "execution_count": 13,
   "metadata": {},
   "outputs": [],
   "source": [
    "import pandas as pd\n",
    "import matplotlib.pyplot as plt"
   ]
  },
  {
   "cell_type": "code",
   "execution_count": 2,
   "metadata": {},
   "outputs": [],
   "source": [
    "input_path = 'inputs/'\n",
    "\n",
    "company_info_path = input_path + 'company_info.csv'\n",
    "monthly_returns_path = input_path + 'monthly_returns.csv'\n",
    "company_themes_path = input_path + 'company_themes.csv'"
   ]
  },
  {
   "cell_type": "code",
   "execution_count": 3,
   "metadata": {},
   "outputs": [],
   "source": [
    "# Load data\n",
    "company_info = pd.read_csv(company_info_path)\n",
    "monthly_returns = pd.read_csv(monthly_returns_path)\n",
    "company_themes = pd.read_csv(company_themes_path)"
   ]
  },
  {
   "attachments": {},
   "cell_type": "markdown",
   "metadata": {},
   "source": [
    "## EDA"
   ]
  },
  {
   "attachments": {},
   "cell_type": "markdown",
   "metadata": {},
   "source": [
    "### Data Description"
   ]
  },
  {
   "cell_type": "code",
   "execution_count": 5,
   "metadata": {},
   "outputs": [
    {
     "data": {
      "text/html": [
       "<div>\n",
       "<style scoped>\n",
       "    .dataframe tbody tr th:only-of-type {\n",
       "        vertical-align: middle;\n",
       "    }\n",
       "\n",
       "    .dataframe tbody tr th {\n",
       "        vertical-align: top;\n",
       "    }\n",
       "\n",
       "    .dataframe thead th {\n",
       "        text-align: right;\n",
       "    }\n",
       "</style>\n",
       "<table border=\"1\" class=\"dataframe\">\n",
       "  <thead>\n",
       "    <tr style=\"text-align: right;\">\n",
       "      <th></th>\n",
       "      <th>CIK</th>\n",
       "      <th>sector</th>\n",
       "      <th>market_cap</th>\n",
       "      <th>esg1</th>\n",
       "      <th>esg2</th>\n",
       "      <th>esg3</th>\n",
       "    </tr>\n",
       "  </thead>\n",
       "  <tbody>\n",
       "    <tr>\n",
       "      <th>0</th>\n",
       "      <td>5220704</td>\n",
       "      <td>Health Care</td>\n",
       "      <td>39611</td>\n",
       "      <td>54.703106</td>\n",
       "      <td>48.160889</td>\n",
       "      <td>0.220305</td>\n",
       "    </tr>\n",
       "    <tr>\n",
       "      <th>1</th>\n",
       "      <td>2332044</td>\n",
       "      <td>Utilities</td>\n",
       "      <td>82878</td>\n",
       "      <td>41.660446</td>\n",
       "      <td>97.178136</td>\n",
       "      <td>1.947844</td>\n",
       "    </tr>\n",
       "    <tr>\n",
       "      <th>2</th>\n",
       "      <td>9637119</td>\n",
       "      <td>Financials</td>\n",
       "      <td>98896</td>\n",
       "      <td>34.817850</td>\n",
       "      <td>46.831737</td>\n",
       "      <td>0.389516</td>\n",
       "    </tr>\n",
       "    <tr>\n",
       "      <th>3</th>\n",
       "      <td>3355642</td>\n",
       "      <td>Materials</td>\n",
       "      <td>23420</td>\n",
       "      <td>63.150812</td>\n",
       "      <td>81.004760</td>\n",
       "      <td>0.340540</td>\n",
       "    </tr>\n",
       "    <tr>\n",
       "      <th>4</th>\n",
       "      <td>1883457</td>\n",
       "      <td>Financials</td>\n",
       "      <td>37909</td>\n",
       "      <td>36.628471</td>\n",
       "      <td>1.818304</td>\n",
       "      <td>2.353531</td>\n",
       "    </tr>\n",
       "  </tbody>\n",
       "</table>\n",
       "</div>"
      ],
      "text/plain": [
       "       CIK       sector  market_cap       esg1       esg2      esg3\n",
       "0  5220704  Health Care       39611  54.703106  48.160889  0.220305\n",
       "1  2332044    Utilities       82878  41.660446  97.178136  1.947844\n",
       "2  9637119   Financials       98896  34.817850  46.831737  0.389516\n",
       "3  3355642    Materials       23420  63.150812  81.004760  0.340540\n",
       "4  1883457   Financials       37909  36.628471   1.818304  2.353531"
      ]
     },
     "execution_count": 5,
     "metadata": {},
     "output_type": "execute_result"
    }
   ],
   "source": [
    "company_info.head()"
   ]
  },
  {
   "cell_type": "code",
   "execution_count": 6,
   "metadata": {},
   "outputs": [
    {
     "data": {
      "text/html": [
       "<div>\n",
       "<style scoped>\n",
       "    .dataframe tbody tr th:only-of-type {\n",
       "        vertical-align: middle;\n",
       "    }\n",
       "\n",
       "    .dataframe tbody tr th {\n",
       "        vertical-align: top;\n",
       "    }\n",
       "\n",
       "    .dataframe thead th {\n",
       "        text-align: right;\n",
       "    }\n",
       "</style>\n",
       "<table border=\"1\" class=\"dataframe\">\n",
       "  <thead>\n",
       "    <tr style=\"text-align: right;\">\n",
       "      <th></th>\n",
       "      <th>CIK</th>\n",
       "      <th>market_cap</th>\n",
       "      <th>esg1</th>\n",
       "      <th>esg2</th>\n",
       "      <th>esg3</th>\n",
       "    </tr>\n",
       "  </thead>\n",
       "  <tbody>\n",
       "    <tr>\n",
       "      <th>count</th>\n",
       "      <td>2.500000e+01</td>\n",
       "      <td>25.000000</td>\n",
       "      <td>25.000000</td>\n",
       "      <td>25.000000</td>\n",
       "      <td>25.000000</td>\n",
       "    </tr>\n",
       "    <tr>\n",
       "      <th>mean</th>\n",
       "      <td>4.917950e+06</td>\n",
       "      <td>53623.720000</td>\n",
       "      <td>49.491159</td>\n",
       "      <td>44.399919</td>\n",
       "      <td>0.970634</td>\n",
       "    </tr>\n",
       "    <tr>\n",
       "      <th>std</th>\n",
       "      <td>3.116910e+06</td>\n",
       "      <td>30385.371258</td>\n",
       "      <td>9.427242</td>\n",
       "      <td>30.657432</td>\n",
       "      <td>1.048013</td>\n",
       "    </tr>\n",
       "    <tr>\n",
       "      <th>min</th>\n",
       "      <td>1.051688e+06</td>\n",
       "      <td>3062.000000</td>\n",
       "      <td>33.007741</td>\n",
       "      <td>0.051091</td>\n",
       "      <td>0.009170</td>\n",
       "    </tr>\n",
       "    <tr>\n",
       "      <th>25%</th>\n",
       "      <td>2.332044e+06</td>\n",
       "      <td>27477.000000</td>\n",
       "      <td>42.198745</td>\n",
       "      <td>14.820601</td>\n",
       "      <td>0.198249</td>\n",
       "    </tr>\n",
       "    <tr>\n",
       "      <th>50%</th>\n",
       "      <td>4.081732e+06</td>\n",
       "      <td>56657.000000</td>\n",
       "      <td>50.972694</td>\n",
       "      <td>47.485910</td>\n",
       "      <td>0.340540</td>\n",
       "    </tr>\n",
       "    <tr>\n",
       "      <th>75%</th>\n",
       "      <td>6.649678e+06</td>\n",
       "      <td>76360.000000</td>\n",
       "      <td>54.703106</td>\n",
       "      <td>72.201077</td>\n",
       "      <td>1.864255</td>\n",
       "    </tr>\n",
       "    <tr>\n",
       "      <th>max</th>\n",
       "      <td>9.996541e+06</td>\n",
       "      <td>98896.000000</td>\n",
       "      <td>65.517421</td>\n",
       "      <td>97.178136</td>\n",
       "      <td>3.475053</td>\n",
       "    </tr>\n",
       "  </tbody>\n",
       "</table>\n",
       "</div>"
      ],
      "text/plain": [
       "                CIK    market_cap       esg1       esg2       esg3\n",
       "count  2.500000e+01     25.000000  25.000000  25.000000  25.000000\n",
       "mean   4.917950e+06  53623.720000  49.491159  44.399919   0.970634\n",
       "std    3.116910e+06  30385.371258   9.427242  30.657432   1.048013\n",
       "min    1.051688e+06   3062.000000  33.007741   0.051091   0.009170\n",
       "25%    2.332044e+06  27477.000000  42.198745  14.820601   0.198249\n",
       "50%    4.081732e+06  56657.000000  50.972694  47.485910   0.340540\n",
       "75%    6.649678e+06  76360.000000  54.703106  72.201077   1.864255\n",
       "max    9.996541e+06  98896.000000  65.517421  97.178136   3.475053"
      ]
     },
     "execution_count": 6,
     "metadata": {},
     "output_type": "execute_result"
    }
   ],
   "source": [
    "company_info.describe()"
   ]
  },
  {
   "cell_type": "code",
   "execution_count": 7,
   "metadata": {},
   "outputs": [
    {
     "data": {
      "text/html": [
       "<div>\n",
       "<style scoped>\n",
       "    .dataframe tbody tr th:only-of-type {\n",
       "        vertical-align: middle;\n",
       "    }\n",
       "\n",
       "    .dataframe tbody tr th {\n",
       "        vertical-align: top;\n",
       "    }\n",
       "\n",
       "    .dataframe thead th {\n",
       "        text-align: right;\n",
       "    }\n",
       "</style>\n",
       "<table border=\"1\" class=\"dataframe\">\n",
       "  <thead>\n",
       "    <tr style=\"text-align: right;\">\n",
       "      <th></th>\n",
       "      <th>CIK</th>\n",
       "      <th>date</th>\n",
       "      <th>ret</th>\n",
       "      <th>pred_ret1</th>\n",
       "      <th>pred_ret2</th>\n",
       "      <th>pred_ret3</th>\n",
       "    </tr>\n",
       "  </thead>\n",
       "  <tbody>\n",
       "    <tr>\n",
       "      <th>0</th>\n",
       "      <td>5220704</td>\n",
       "      <td>2013-01-01</td>\n",
       "      <td>0.042038</td>\n",
       "      <td>-0.000309</td>\n",
       "      <td>-0.047066</td>\n",
       "      <td>-0.413661</td>\n",
       "    </tr>\n",
       "    <tr>\n",
       "      <th>1</th>\n",
       "      <td>5220704</td>\n",
       "      <td>2013-02-01</td>\n",
       "      <td>-0.098542</td>\n",
       "      <td>-0.394995</td>\n",
       "      <td>0.163334</td>\n",
       "      <td>-0.315712</td>\n",
       "    </tr>\n",
       "    <tr>\n",
       "      <th>2</th>\n",
       "      <td>5220704</td>\n",
       "      <td>2013-03-01</td>\n",
       "      <td>-0.210259</td>\n",
       "      <td>-0.364391</td>\n",
       "      <td>-0.291918</td>\n",
       "      <td>-0.145896</td>\n",
       "    </tr>\n",
       "    <tr>\n",
       "      <th>3</th>\n",
       "      <td>5220704</td>\n",
       "      <td>2013-04-01</td>\n",
       "      <td>0.038368</td>\n",
       "      <td>-0.005837</td>\n",
       "      <td>-0.150492</td>\n",
       "      <td>0.006581</td>\n",
       "    </tr>\n",
       "    <tr>\n",
       "      <th>4</th>\n",
       "      <td>5220704</td>\n",
       "      <td>2013-05-01</td>\n",
       "      <td>0.151490</td>\n",
       "      <td>0.122270</td>\n",
       "      <td>-0.050050</td>\n",
       "      <td>0.602736</td>\n",
       "    </tr>\n",
       "  </tbody>\n",
       "</table>\n",
       "</div>"
      ],
      "text/plain": [
       "       CIK        date       ret  pred_ret1  pred_ret2  pred_ret3\n",
       "0  5220704  2013-01-01  0.042038  -0.000309  -0.047066  -0.413661\n",
       "1  5220704  2013-02-01 -0.098542  -0.394995   0.163334  -0.315712\n",
       "2  5220704  2013-03-01 -0.210259  -0.364391  -0.291918  -0.145896\n",
       "3  5220704  2013-04-01  0.038368  -0.005837  -0.150492   0.006581\n",
       "4  5220704  2013-05-01  0.151490   0.122270  -0.050050   0.602736"
      ]
     },
     "execution_count": 7,
     "metadata": {},
     "output_type": "execute_result"
    }
   ],
   "source": [
    "monthly_returns.head()"
   ]
  },
  {
   "cell_type": "code",
   "execution_count": 8,
   "metadata": {},
   "outputs": [
    {
     "data": {
      "text/html": [
       "<div>\n",
       "<style scoped>\n",
       "    .dataframe tbody tr th:only-of-type {\n",
       "        vertical-align: middle;\n",
       "    }\n",
       "\n",
       "    .dataframe tbody tr th {\n",
       "        vertical-align: top;\n",
       "    }\n",
       "\n",
       "    .dataframe thead th {\n",
       "        text-align: right;\n",
       "    }\n",
       "</style>\n",
       "<table border=\"1\" class=\"dataframe\">\n",
       "  <thead>\n",
       "    <tr style=\"text-align: right;\">\n",
       "      <th></th>\n",
       "      <th>CIK</th>\n",
       "      <th>ret</th>\n",
       "      <th>pred_ret1</th>\n",
       "      <th>pred_ret2</th>\n",
       "      <th>pred_ret3</th>\n",
       "    </tr>\n",
       "  </thead>\n",
       "  <tbody>\n",
       "    <tr>\n",
       "      <th>count</th>\n",
       "      <td>2.125000e+03</td>\n",
       "      <td>2125.000000</td>\n",
       "      <td>2125.000000</td>\n",
       "      <td>2125.000000</td>\n",
       "      <td>2125.000000</td>\n",
       "    </tr>\n",
       "    <tr>\n",
       "      <th>mean</th>\n",
       "      <td>4.917950e+06</td>\n",
       "      <td>-0.001831</td>\n",
       "      <td>-0.099518</td>\n",
       "      <td>-0.093263</td>\n",
       "      <td>-0.093712</td>\n",
       "    </tr>\n",
       "    <tr>\n",
       "      <th>std</th>\n",
       "      <td>3.054655e+06</td>\n",
       "      <td>0.248148</td>\n",
       "      <td>0.324254</td>\n",
       "      <td>0.316847</td>\n",
       "      <td>0.321265</td>\n",
       "    </tr>\n",
       "    <tr>\n",
       "      <th>min</th>\n",
       "      <td>1.051688e+06</td>\n",
       "      <td>-1.000000</td>\n",
       "      <td>-1.268077</td>\n",
       "      <td>-1.209764</td>\n",
       "      <td>-1.286151</td>\n",
       "    </tr>\n",
       "    <tr>\n",
       "      <th>25%</th>\n",
       "      <td>2.332044e+06</td>\n",
       "      <td>-0.171208</td>\n",
       "      <td>-0.323283</td>\n",
       "      <td>-0.308457</td>\n",
       "      <td>-0.312741</td>\n",
       "    </tr>\n",
       "    <tr>\n",
       "      <th>50%</th>\n",
       "      <td>4.081732e+06</td>\n",
       "      <td>-0.001530</td>\n",
       "      <td>-0.099672</td>\n",
       "      <td>-0.087066</td>\n",
       "      <td>-0.095831</td>\n",
       "    </tr>\n",
       "    <tr>\n",
       "      <th>75%</th>\n",
       "      <td>6.649678e+06</td>\n",
       "      <td>0.176216</td>\n",
       "      <td>0.122064</td>\n",
       "      <td>0.119816</td>\n",
       "      <td>0.132469</td>\n",
       "    </tr>\n",
       "    <tr>\n",
       "      <th>max</th>\n",
       "      <td>9.996541e+06</td>\n",
       "      <td>0.911307</td>\n",
       "      <td>1.100433</td>\n",
       "      <td>0.908490</td>\n",
       "      <td>0.961030</td>\n",
       "    </tr>\n",
       "  </tbody>\n",
       "</table>\n",
       "</div>"
      ],
      "text/plain": [
       "                CIK          ret    pred_ret1    pred_ret2    pred_ret3\n",
       "count  2.125000e+03  2125.000000  2125.000000  2125.000000  2125.000000\n",
       "mean   4.917950e+06    -0.001831    -0.099518    -0.093263    -0.093712\n",
       "std    3.054655e+06     0.248148     0.324254     0.316847     0.321265\n",
       "min    1.051688e+06    -1.000000    -1.268077    -1.209764    -1.286151\n",
       "25%    2.332044e+06    -0.171208    -0.323283    -0.308457    -0.312741\n",
       "50%    4.081732e+06    -0.001530    -0.099672    -0.087066    -0.095831\n",
       "75%    6.649678e+06     0.176216     0.122064     0.119816     0.132469\n",
       "max    9.996541e+06     0.911307     1.100433     0.908490     0.961030"
      ]
     },
     "execution_count": 8,
     "metadata": {},
     "output_type": "execute_result"
    }
   ],
   "source": [
    "monthly_returns.describe()"
   ]
  },
  {
   "cell_type": "code",
   "execution_count": 9,
   "metadata": {},
   "outputs": [
    {
     "data": {
      "text/html": [
       "<div>\n",
       "<style scoped>\n",
       "    .dataframe tbody tr th:only-of-type {\n",
       "        vertical-align: middle;\n",
       "    }\n",
       "\n",
       "    .dataframe tbody tr th {\n",
       "        vertical-align: top;\n",
       "    }\n",
       "\n",
       "    .dataframe thead th {\n",
       "        text-align: right;\n",
       "    }\n",
       "</style>\n",
       "<table border=\"1\" class=\"dataframe\">\n",
       "  <thead>\n",
       "    <tr style=\"text-align: right;\">\n",
       "      <th></th>\n",
       "      <th>CIK</th>\n",
       "      <th>theme</th>\n",
       "    </tr>\n",
       "  </thead>\n",
       "  <tbody>\n",
       "    <tr>\n",
       "      <th>0</th>\n",
       "      <td>5220704</td>\n",
       "      <td>energy</td>\n",
       "    </tr>\n",
       "    <tr>\n",
       "      <th>1</th>\n",
       "      <td>2332044</td>\n",
       "      <td>social</td>\n",
       "    </tr>\n",
       "    <tr>\n",
       "      <th>2</th>\n",
       "      <td>2332044</td>\n",
       "      <td>ethics</td>\n",
       "    </tr>\n",
       "    <tr>\n",
       "      <th>3</th>\n",
       "      <td>2332044</td>\n",
       "      <td>governance</td>\n",
       "    </tr>\n",
       "    <tr>\n",
       "      <th>4</th>\n",
       "      <td>2332044</td>\n",
       "      <td>social</td>\n",
       "    </tr>\n",
       "  </tbody>\n",
       "</table>\n",
       "</div>"
      ],
      "text/plain": [
       "       CIK       theme\n",
       "0  5220704      energy\n",
       "1  2332044      social\n",
       "2  2332044      ethics\n",
       "3  2332044  governance\n",
       "4  2332044      social"
      ]
     },
     "execution_count": 9,
     "metadata": {},
     "output_type": "execute_result"
    }
   ],
   "source": [
    "company_themes.head()"
   ]
  },
  {
   "cell_type": "code",
   "execution_count": 10,
   "metadata": {},
   "outputs": [
    {
     "data": {
      "text/html": [
       "<div>\n",
       "<style scoped>\n",
       "    .dataframe tbody tr th:only-of-type {\n",
       "        vertical-align: middle;\n",
       "    }\n",
       "\n",
       "    .dataframe tbody tr th {\n",
       "        vertical-align: top;\n",
       "    }\n",
       "\n",
       "    .dataframe thead th {\n",
       "        text-align: right;\n",
       "    }\n",
       "</style>\n",
       "<table border=\"1\" class=\"dataframe\">\n",
       "  <thead>\n",
       "    <tr style=\"text-align: right;\">\n",
       "      <th></th>\n",
       "      <th>CIK</th>\n",
       "    </tr>\n",
       "  </thead>\n",
       "  <tbody>\n",
       "    <tr>\n",
       "      <th>count</th>\n",
       "      <td>1.160000e+02</td>\n",
       "    </tr>\n",
       "    <tr>\n",
       "      <th>mean</th>\n",
       "      <td>5.313153e+06</td>\n",
       "    </tr>\n",
       "    <tr>\n",
       "      <th>std</th>\n",
       "      <td>3.240884e+06</td>\n",
       "    </tr>\n",
       "    <tr>\n",
       "      <th>min</th>\n",
       "      <td>1.051688e+06</td>\n",
       "    </tr>\n",
       "    <tr>\n",
       "      <th>25%</th>\n",
       "      <td>2.440382e+06</td>\n",
       "    </tr>\n",
       "    <tr>\n",
       "      <th>50%</th>\n",
       "      <td>4.452226e+06</td>\n",
       "    </tr>\n",
       "    <tr>\n",
       "      <th>75%</th>\n",
       "      <td>9.692085e+06</td>\n",
       "    </tr>\n",
       "    <tr>\n",
       "      <th>max</th>\n",
       "      <td>9.996541e+06</td>\n",
       "    </tr>\n",
       "  </tbody>\n",
       "</table>\n",
       "</div>"
      ],
      "text/plain": [
       "                CIK\n",
       "count  1.160000e+02\n",
       "mean   5.313153e+06\n",
       "std    3.240884e+06\n",
       "min    1.051688e+06\n",
       "25%    2.440382e+06\n",
       "50%    4.452226e+06\n",
       "75%    9.692085e+06\n",
       "max    9.996541e+06"
      ]
     },
     "execution_count": 10,
     "metadata": {},
     "output_type": "execute_result"
    }
   ],
   "source": [
    "company_themes.describe()"
   ]
  },
  {
   "attachments": {},
   "cell_type": "markdown",
   "metadata": {},
   "source": [
    "### Variable Description"
   ]
  },
  {
   "cell_type": "code",
   "execution_count": 34,
   "metadata": {},
   "outputs": [
    {
     "data": {
      "image/png": "[encoded data removed]",
      "text/plain": [
       "<Figure size 1000x800 with 4 Axes>"
      ]
     },
     "metadata": {},
     "output_type": "display_data"
    }
   ],
   "source": [
    "company_info.drop(['CIK'], axis=1).hist(bins=20, figsize=(10, 8), layout=(2, 2))\n",
    "plt.suptitle('Distribution of Company Info', y=0.95, fontsize='xx-large')\n",
    "plt.subplots_adjust(hspace=0.2, wspace=0.2)\n",
    "plt.show()"
   ]
  },
  {
   "cell_type": "code",
   "execution_count": 35,
   "metadata": {},
   "outputs": [
    {
     "data": {
      "image/png": "[encoded data removed]",
      "text/plain": [
       "<Figure size 1000x800 with 4 Axes>"
      ]
     },
     "metadata": {},
     "output_type": "display_data"
    }
   ],
   "source": [
    "monthly_returns.drop(['CIK'], axis=1).hist(bins=20, figsize=(10, 8), layout=(2, 2))\n",
    "plt.suptitle('Distribution of Monthly Returns', y=0.95, fontsize='xx-large')\n",
    "plt.subplots_adjust(hspace=0.2, wspace=0.2)\n",
    "plt.show()"
   ]
  },
  {
   "cell_type": "code",
   "execution_count": 39,
   "metadata": {},
   "outputs": [
    {
     "data": {
      "text/plain": [
       "social         31\n",
       "environment    24\n",
       "ethics         22\n",
       "energy         20\n",
       "governance     19\n",
       "Name: theme, dtype: int64"
      ]
     },
     "execution_count": 39,
     "metadata": {},
     "output_type": "execute_result"
    }
   ],
   "source": [
    "company_themes['theme'].value_counts()"
   ]
  }
 ],
 "metadata": {
  "kernelspec": {
   "display_name": "esg-dashboard",
   "language": "python",
   "name": "python3"
  },
  "language_info": {
   "codemirror_mode": {
    "name": "ipython",
    "version": 3
   },
   "file_extension": ".py",
   "mimetype": "text/x-python",
   "name": "python",
   "nbconvert_exporter": "python",
   "pygments_lexer": "ipython3",
   "version": "3.11.2"
  },
  "orig_nbformat": 4
 },
 "nbformat": 4,
 "nbformat_minor": 2
}
